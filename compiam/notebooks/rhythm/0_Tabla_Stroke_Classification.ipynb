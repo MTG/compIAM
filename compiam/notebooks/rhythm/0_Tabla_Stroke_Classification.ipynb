{
 "cells": [
  {
   "cell_type": "code",
   "execution_count": 8,
   "id": "5e65dbad",
   "metadata": {},
   "outputs": [
    {
     "name": "stdout",
     "output_type": "stream",
     "text": [
      "The autoreload extension is already loaded. To reload it, use:\n",
      "  %reload_ext autoreload\n"
     ]
    }
   ],
   "source": [
    "%load_ext autoreload\n",
    "%autoreload 2"
   ]
  },
  {
   "cell_type": "code",
   "execution_count": null,
   "id": "0e786e44",
   "metadata": {},
   "outputs": [],
   "source": [
    "# Data augment\n",
    "from compiam.utils.augment import pitch_shift, spectral_shape, stroke_remix, time_scale, attack_remix\n",
    "\n",
    "pitch_shift(in_path, out_dir, fs, ps, shifts, n_jobs=n_jobs)\n",
    "spectral_shape(in_path, out_dir, fs, gain_set, winDur, hopDur, params, n_jobs=n_jobs)\n",
    "stroke_remix(in_path, out_dir, fs, gain_set, templates, winDur, hopDur, params, n_jobs=n_jobs)\n",
    "time_scale(in_path, out_dir, fs, ts, params, n_jobs=n_jobs)\n",
    "attack_remix(in_path, out_dir, fs, G, winDur, hopDur, params, n_jobs=n_jobs)"
   ]
  },
  {
   "cell_type": "code",
   "execution_count": 9,
   "id": "b47da329",
   "metadata": {},
   "outputs": [
    {
     "ename": "ModuleNotFoundError",
     "evalue": "No module named 'compiam'",
     "output_type": "error",
     "traceback": [
      "\u001b[0;31m---------------------------------------------------------------------------\u001b[0m",
      "\u001b[0;31mModuleNotFoundError\u001b[0m                       Traceback (most recent call last)",
      "Input \u001b[0;32mIn [9]\u001b[0m, in \u001b[0;36m<cell line: 2>\u001b[0;34m()\u001b[0m\n\u001b[1;32m      1\u001b[0m \u001b[38;5;66;03m# Predict\u001b[39;00m\n\u001b[0;32m----> 2\u001b[0m \u001b[38;5;28;01mfrom\u001b[39;00m \u001b[38;5;21;01mcompiam\u001b[39;00m\u001b[38;5;21;01m.\u001b[39;00m\u001b[38;5;21;01mrhythm\u001b[39;00m\u001b[38;5;21;01m.\u001b[39;00m\u001b[38;5;21;01mtabla_transcription\u001b[39;00m\u001b[38;5;21;01m.\u001b[39;00m\u001b[38;5;21;01mmodels\u001b[39;00m \u001b[38;5;28;01mimport\u001b[39;00m classify_strokes\n\u001b[1;32m      3\u001b[0m \u001b[38;5;28;01mfrom\u001b[39;00m \u001b[38;5;21;01mcompiam\u001b[39;00m\u001b[38;5;21;01m.\u001b[39;00m\u001b[38;5;21;01mutils\u001b[39;00m\u001b[38;5;21;01m.\u001b[39;00m\u001b[38;5;21;01mcore\u001b[39;00m \u001b[38;5;28;01mimport\u001b[39;00m load_model\n\u001b[1;32m      5\u001b[0m model \u001b[38;5;241m=\u001b[39m load_model(\u001b[38;5;124m'\u001b[39m\u001b[38;5;124mrhythm:tabla4way\u001b[39m\u001b[38;5;124m'\u001b[39m)\n",
      "\u001b[0;31mModuleNotFoundError\u001b[0m: No module named 'compiam'"
     ]
    }
   ],
   "source": [
    "# Predict\n",
    "from compiam.rhythm.tabla_transcription.models import classify_strokes\n",
    "from compiam.utils.core import load_model\n",
    "\n",
    "model = load_model('rhythm:tabla4way')\n",
    "\n",
    "onsets, labels = model.predict(path_to_audio, predict_thresh=predict_thresh)"
   ]
  },
  {
   "cell_type": "code",
   "execution_count": 3,
   "id": "cfc40882",
   "metadata": {},
   "outputs": [],
   "source": [
    "# For new models create...\n",
    "#     1. compiam.model_store.wrappers\n",
    "#     2. new key in <model_dict>"
   ]
  },
  {
   "cell_type": "code",
   "execution_count": null,
   "id": "8de493c0",
   "metadata": {},
   "outputs": [],
   "source": [
    "# Visualise\n",
    "from compiam.visualisation.audio import plot_waveform\n",
    "\n",
    "plot_waveform(path_to_audio, t1, t2, dict(zip(onsets, labels)))"
   ]
  },
  {
   "cell_type": "code",
   "execution_count": null,
   "id": "d61adbcd",
   "metadata": {},
   "outputs": [],
   "source": [
    "# Output\n",
    "from compiam.io import write_csv\n",
    "\n",
    "write_csv([onsets, labels], out_path, header=['onset','label'])"
   ]
  }
 ],
 "metadata": {
  "kernelspec": {
   "display_name": "Python 3.9.4 64-bit",
   "language": "python",
   "name": "python3"
  },
  "language_info": {
   "codemirror_mode": {
    "name": "ipython",
    "version": 3
   },
   "file_extension": ".py",
   "mimetype": "text/x-python",
   "name": "python",
   "nbconvert_exporter": "python",
   "pygments_lexer": "ipython3",
   "version": "3.9.4"
  },
  "vscode": {
   "interpreter": {
    "hash": "aee8b7b246df8f9039afb4144a1f6fd8d2ca17a180786b69acc140d282b71a49"
   }
  }
 },
 "nbformat": 4,
 "nbformat_minor": 5
}
