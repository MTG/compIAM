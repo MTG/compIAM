{
 "cells": [
  {
   "cell_type": "markdown",
   "id": "403259b1",
   "metadata": {},
   "source": [
    "## Bōl/Solkattu Transcription"
   ]
  },
  {
   "cell_type": "markdown",
   "id": "cba6ba0d",
   "metadata": {},
   "source": [
    "This notebook is designed to walk you through the rhythm transcription methods available in compIAM at `compiam.rhythm.transcription`. Two methods are presented:\n",
    "1. Four way tabla transcription using CNN drums model [1]\n",
    "2. Bol/Konnakol transcription using Gaussian Mixture Hidden Markov Model [2]\n",
    "\n",
    "The notebook is structured as follows\n",
    "1. Introduction to Bol/Solkattu syllables in Indian Art Music\n",
    "2. Example application of transcription from both methods\n",
    "3. Example downstream task such as visualisation and rhythmic pattern recognition/querying"
   ]
  },
  {
   "cell_type": "markdown",
   "id": "f1d02198",
   "metadata": {},
   "source": [
    "### 1. Bōl and Solkattu syllables in Indian Art Music"
   ]
  },
  {
   "cell_type": "markdown",
   "id": "0d65f35c",
   "metadata": {},
   "source": [
    "[TO REVISE] Playing rhythm in Indian Art Music is taught and learned through the use of onomatopoeic oral mnemonic syllables called the bōl (in the Hindustani tradition) and solkattu (in the Carnatic tradition), which are vocal syllables corresponding to different timbres that can be produced on the tabla/mridangam. However, several bōls/solkattu correspond to the same stroke played on the tabla/mridangam, creating a many bōl/solkattu to same timbre mapping, which can be exploited to discover acoustically similar patterns."
   ]
  },
  {
   "cell_type": "markdown",
   "id": "a9dae529",
   "metadata": {},
   "source": [
    "### 2. Automated Transcription"
   ]
  },
  {
   "cell_type": "code",
   "execution_count": 4,
   "id": "00446ab2",
   "metadata": {},
   "outputs": [],
   "source": [
    "import csv\n",
    "from compiam.rhythm.transcription import FourWayTabla, MnemonicTranscription\n",
    "from tabla_solo_dataset_paths import audio_paths, annotations_paths"
   ]
  },
  {
   "cell_type": "code",
   "execution_count": 5,
   "id": "05f980ce",
   "metadata": {},
   "outputs": [],
   "source": [
    "mappings_path = '../../compiam/rhythm/transcription/bol_mappings.csv'\n",
    "bol_mappings = {}\n",
    "with open(mappings_path, 'r') as f:\n",
    "    reader = csv.reader(f)\n",
    "    for row in reader:\n",
    "        bol_mappings[str(row[0]).strip()] = str(row[1]).strip()"
   ]
  },
  {
   "cell_type": "markdown",
   "id": "ed1876f7",
   "metadata": {},
   "source": [
    "We can reduce the bols to a more manageable mapping"
   ]
  },
  {
   "cell_type": "code",
   "execution_count": 6,
   "id": "c351e3c9",
   "metadata": {},
   "outputs": [
    {
     "data": {
      "text/plain": [
       "{'TA': 'TA',\n",
       " 'NA': 'NA',\n",
       " 'DHA': 'DHA',\n",
       " 'KI': 'KI',\n",
       " 'TI': 'TA',\n",
       " 'GE': 'GE',\n",
       " 'TAA': 'NA',\n",
       " 'KA': 'KI',\n",
       " 'RA': 'TA',\n",
       " 'GA': 'GE',\n",
       " 'GHI': 'GE',\n",
       " 'RE': 'RE',\n",
       " 'DHI': 'DHI',\n",
       " 'DA': 'DA',\n",
       " 'DHE': 'DHE',\n",
       " 'KE': 'KI',\n",
       " 'DHIN': 'DHIN',\n",
       " 'DHET': 'DHET',\n",
       " 'TII': 'TII',\n",
       " 'KDA': 'KDA',\n",
       " 'GI': 'GE',\n",
       " 'TRA': 'TRA',\n",
       " 'TIN': 'TIN',\n",
       " 'TIT': 'TIT',\n",
       " 'GHE': 'GE',\n",
       " 'KAT': 'KI',\n",
       " 'DIN': 'DIN',\n",
       " 'DAA': 'DA',\n",
       " 'KII': 'KI',\n",
       " 'TE': 'TE',\n",
       " 'N': 'NA',\n",
       " 'DI': 'DIN',\n",
       " 'KRU': 'KDA',\n",
       " 'CHAP': 'TIT',\n",
       " 'DING': 'DIN',\n",
       " 'D': 'DA',\n",
       " 'KRA': 'KDA',\n",
       " 'KRI': 'KDA'}"
      ]
     },
     "execution_count": 6,
     "metadata": {},
     "output_type": "execute_result"
    }
   ],
   "source": [
    "bol_mappings"
   ]
  },
  {
   "cell_type": "markdown",
   "id": "cb98bfc1",
   "metadata": {},
   "source": [
    "Initialize transcriber"
   ]
  },
  {
   "cell_type": "code",
   "execution_count": 8,
   "id": "e820d0b0",
   "metadata": {},
   "outputs": [],
   "source": [
    "transcriber = MnemonicTranscription(syllables=bol_mappings)"
   ]
  },
  {
   "cell_type": "markdown",
   "id": "dde69aca",
   "metadata": {},
   "source": [
    "Train on audio/annotations"
   ]
  },
  {
   "cell_type": "code",
   "execution_count": null,
   "id": "e0e4fb3f",
   "metadata": {},
   "outputs": [
    {
     "name": "stderr",
     "output_type": "stream",
     "text": [
      "[2022-11-09 19:10:10,516] WARNING [compiam.rhythm.transcription.map:615] Skipping unknown syllable, KAR for training instance. Model syllables: dict_keys(['TA', 'NA', 'DHA', 'KI', 'TI', 'GE', 'TAA', 'KA', 'RA', 'GA', 'GHI', 'RE', 'DHI', 'DA', 'DHE', 'KE', 'DHIN', 'DHET', 'TII', 'KDA', 'GI', 'TRA', 'TIN', 'TIT', 'GHE', 'KAT', 'DIN', 'DAA', 'KII', 'TE', 'N', 'DI', 'KRU', 'CHAP', 'DING', 'D', 'KRA', 'KRI'])\n",
      "[2022-11-09 19:10:10,517] WARNING [compiam.rhythm.transcription.map:615] Skipping unknown syllable, GHEN for training instance. Model syllables: dict_keys(['TA', 'NA', 'DHA', 'KI', 'TI', 'GE', 'TAA', 'KA', 'RA', 'GA', 'GHI', 'RE', 'DHI', 'DA', 'DHE', 'KE', 'DHIN', 'DHET', 'TII', 'KDA', 'GI', 'TRA', 'TIN', 'TIT', 'GHE', 'KAT', 'DIN', 'DAA', 'KII', 'TE', 'N', 'DI', 'KRU', 'CHAP', 'DING', 'D', 'KRA', 'KRI'])\n",
      "[2022-11-09 19:10:10,518] WARNING [compiam.rhythm.transcription.map:615] Skipping unknown syllable, KAR for training instance. Model syllables: dict_keys(['TA', 'NA', 'DHA', 'KI', 'TI', 'GE', 'TAA', 'KA', 'RA', 'GA', 'GHI', 'RE', 'DHI', 'DA', 'DHE', 'KE', 'DHIN', 'DHET', 'TII', 'KDA', 'GI', 'TRA', 'TIN', 'TIT', 'GHE', 'KAT', 'DIN', 'DAA', 'KII', 'TE', 'N', 'DI', 'KRU', 'CHAP', 'DING', 'D', 'KRA', 'KRI'])\n",
      "[2022-11-09 19:10:10,518] WARNING [compiam.rhythm.transcription.map:615] Skipping unknown syllable, GHEN for training instance. Model syllables: dict_keys(['TA', 'NA', 'DHA', 'KI', 'TI', 'GE', 'TAA', 'KA', 'RA', 'GA', 'GHI', 'RE', 'DHI', 'DA', 'DHE', 'KE', 'DHIN', 'DHET', 'TII', 'KDA', 'GI', 'TRA', 'TIN', 'TIT', 'GHE', 'KAT', 'DIN', 'DAA', 'KII', 'TE', 'N', 'DI', 'KRU', 'CHAP', 'DING', 'D', 'KRA', 'KRI'])\n",
      "[2022-11-09 19:10:10,519] WARNING [compiam.rhythm.transcription.map:615] Skipping unknown syllable, KAR for training instance. Model syllables: dict_keys(['TA', 'NA', 'DHA', 'KI', 'TI', 'GE', 'TAA', 'KA', 'RA', 'GA', 'GHI', 'RE', 'DHI', 'DA', 'DHE', 'KE', 'DHIN', 'DHET', 'TII', 'KDA', 'GI', 'TRA', 'TIN', 'TIT', 'GHE', 'KAT', 'DIN', 'DAA', 'KII', 'TE', 'N', 'DI', 'KRU', 'CHAP', 'DING', 'D', 'KRA', 'KRI'])\n",
      "[2022-11-09 19:10:10,520] WARNING [compiam.rhythm.transcription.map:615] Skipping unknown syllable, GHEN for training instance. Model syllables: dict_keys(['TA', 'NA', 'DHA', 'KI', 'TI', 'GE', 'TAA', 'KA', 'RA', 'GA', 'GHI', 'RE', 'DHI', 'DA', 'DHE', 'KE', 'DHIN', 'DHET', 'TII', 'KDA', 'GI', 'TRA', 'TIN', 'TIT', 'GHE', 'KAT', 'DIN', 'DAA', 'KII', 'TE', 'N', 'DI', 'KRU', 'CHAP', 'DING', 'D', 'KRA', 'KRI'])\n",
      "[2022-11-09 19:10:10,520] WARNING [compiam.rhythm.transcription.map:615] Skipping unknown syllable, KAR for training instance. Model syllables: dict_keys(['TA', 'NA', 'DHA', 'KI', 'TI', 'GE', 'TAA', 'KA', 'RA', 'GA', 'GHI', 'RE', 'DHI', 'DA', 'DHE', 'KE', 'DHIN', 'DHET', 'TII', 'KDA', 'GI', 'TRA', 'TIN', 'TIT', 'GHE', 'KAT', 'DIN', 'DAA', 'KII', 'TE', 'N', 'DI', 'KRU', 'CHAP', 'DING', 'D', 'KRA', 'KRI'])\n",
      "[2022-11-09 19:10:10,521] WARNING [compiam.rhythm.transcription.map:615] Skipping unknown syllable, GHEN for training instance. Model syllables: dict_keys(['TA', 'NA', 'DHA', 'KI', 'TI', 'GE', 'TAA', 'KA', 'RA', 'GA', 'GHI', 'RE', 'DHI', 'DA', 'DHE', 'KE', 'DHIN', 'DHET', 'TII', 'KDA', 'GI', 'TRA', 'TIN', 'TIT', 'GHE', 'KAT', 'DIN', 'DAA', 'KII', 'TE', 'N', 'DI', 'KRU', 'CHAP', 'DING', 'D', 'KRA', 'KRI'])\n",
      "[2022-11-09 19:10:10,521] WARNING [compiam.rhythm.transcription.map:615] Skipping unknown syllable, KAR for training instance. Model syllables: dict_keys(['TA', 'NA', 'DHA', 'KI', 'TI', 'GE', 'TAA', 'KA', 'RA', 'GA', 'GHI', 'RE', 'DHI', 'DA', 'DHE', 'KE', 'DHIN', 'DHET', 'TII', 'KDA', 'GI', 'TRA', 'TIN', 'TIT', 'GHE', 'KAT', 'DIN', 'DAA', 'KII', 'TE', 'N', 'DI', 'KRU', 'CHAP', 'DING', 'D', 'KRA', 'KRI'])\n",
      "[2022-11-09 19:10:10,522] WARNING [compiam.rhythm.transcription.map:615] Skipping unknown syllable, GHEN for training instance. Model syllables: dict_keys(['TA', 'NA', 'DHA', 'KI', 'TI', 'GE', 'TAA', 'KA', 'RA', 'GA', 'GHI', 'RE', 'DHI', 'DA', 'DHE', 'KE', 'DHIN', 'DHET', 'TII', 'KDA', 'GI', 'TRA', 'TIN', 'TIT', 'GHE', 'KAT', 'DIN', 'DAA', 'KII', 'TE', 'N', 'DI', 'KRU', 'CHAP', 'DING', 'D', 'KRA', 'KRI'])\n",
      "[2022-11-09 19:10:10,522] WARNING [compiam.rhythm.transcription.map:615] Skipping unknown syllable, KAR for training instance. Model syllables: dict_keys(['TA', 'NA', 'DHA', 'KI', 'TI', 'GE', 'TAA', 'KA', 'RA', 'GA', 'GHI', 'RE', 'DHI', 'DA', 'DHE', 'KE', 'DHIN', 'DHET', 'TII', 'KDA', 'GI', 'TRA', 'TIN', 'TIT', 'GHE', 'KAT', 'DIN', 'DAA', 'KII', 'TE', 'N', 'DI', 'KRU', 'CHAP', 'DING', 'D', 'KRA', 'KRI'])\n",
      "[2022-11-09 19:10:10,523] WARNING [compiam.rhythm.transcription.map:615] Skipping unknown syllable, GHEN for training instance. Model syllables: dict_keys(['TA', 'NA', 'DHA', 'KI', 'TI', 'GE', 'TAA', 'KA', 'RA', 'GA', 'GHI', 'RE', 'DHI', 'DA', 'DHE', 'KE', 'DHIN', 'DHET', 'TII', 'KDA', 'GI', 'TRA', 'TIN', 'TIT', 'GHE', 'KAT', 'DIN', 'DAA', 'KII', 'TE', 'N', 'DI', 'KRU', 'CHAP', 'DING', 'D', 'KRA', 'KRI'])\n",
      "[2022-11-09 19:10:10,996] WARNING [compiam.rhythm.transcription.map:615] Skipping unknown syllable, TU for training instance. Model syllables: dict_keys(['TA', 'NA', 'DHA', 'KI', 'TI', 'GE', 'TAA', 'KA', 'RA', 'GA', 'GHI', 'RE', 'DHI', 'DA', 'DHE', 'KE', 'DHIN', 'DHET', 'TII', 'KDA', 'GI', 'TRA', 'TIN', 'TIT', 'GHE', 'KAT', 'DIN', 'DAA', 'KII', 'TE', 'N', 'DI', 'KRU', 'CHAP', 'DING', 'D', 'KRA', 'KRI'])\n",
      "[2022-11-09 19:10:10,997] WARNING [compiam.rhythm.transcription.map:615] Skipping unknown syllable, TU for training instance. Model syllables: dict_keys(['TA', 'NA', 'DHA', 'KI', 'TI', 'GE', 'TAA', 'KA', 'RA', 'GA', 'GHI', 'RE', 'DHI', 'DA', 'DHE', 'KE', 'DHIN', 'DHET', 'TII', 'KDA', 'GI', 'TRA', 'TIN', 'TIT', 'GHE', 'KAT', 'DIN', 'DAA', 'KII', 'TE', 'N', 'DI', 'KRU', 'CHAP', 'DING', 'D', 'KRA', 'KRI'])\n",
      "[2022-11-09 19:10:10,997] WARNING [compiam.rhythm.transcription.map:615] Skipping unknown syllable, TU for training instance. Model syllables: dict_keys(['TA', 'NA', 'DHA', 'KI', 'TI', 'GE', 'TAA', 'KA', 'RA', 'GA', 'GHI', 'RE', 'DHI', 'DA', 'DHE', 'KE', 'DHIN', 'DHET', 'TII', 'KDA', 'GI', 'TRA', 'TIN', 'TIT', 'GHE', 'KAT', 'DIN', 'DAA', 'KII', 'TE', 'N', 'DI', 'KRU', 'CHAP', 'DING', 'D', 'KRA', 'KRI'])\n",
      "[2022-11-09 19:10:10,998] WARNING [compiam.rhythm.transcription.map:615] Skipping unknown syllable, TU for training instance. Model syllables: dict_keys(['TA', 'NA', 'DHA', 'KI', 'TI', 'GE', 'TAA', 'KA', 'RA', 'GA', 'GHI', 'RE', 'DHI', 'DA', 'DHE', 'KE', 'DHIN', 'DHET', 'TII', 'KDA', 'GI', 'TRA', 'TIN', 'TIT', 'GHE', 'KAT', 'DIN', 'DAA', 'KII', 'TE', 'N', 'DI', 'KRU', 'CHAP', 'DING', 'D', 'KRA', 'KRI'])\n",
      "[2022-11-09 19:10:12,722] WARNING [compiam.rhythm.transcription.map:615] Skipping unknown syllable, KAR for training instance. Model syllables: dict_keys(['TA', 'NA', 'DHA', 'KI', 'TI', 'GE', 'TAA', 'KA', 'RA', 'GA', 'GHI', 'RE', 'DHI', 'DA', 'DHE', 'KE', 'DHIN', 'DHET', 'TII', 'KDA', 'GI', 'TRA', 'TIN', 'TIT', 'GHE', 'KAT', 'DIN', 'DAA', 'KII', 'TE', 'N', 'DI', 'KRU', 'CHAP', 'DING', 'D', 'KRA', 'KRI'])\n",
      "[2022-11-09 19:10:12,723] WARNING [compiam.rhythm.transcription.map:615] Skipping unknown syllable, GHEN for training instance. Model syllables: dict_keys(['TA', 'NA', 'DHA', 'KI', 'TI', 'GE', 'TAA', 'KA', 'RA', 'GA', 'GHI', 'RE', 'DHI', 'DA', 'DHE', 'KE', 'DHIN', 'DHET', 'TII', 'KDA', 'GI', 'TRA', 'TIN', 'TIT', 'GHE', 'KAT', 'DIN', 'DAA', 'KII', 'TE', 'N', 'DI', 'KRU', 'CHAP', 'DING', 'D', 'KRA', 'KRI'])\n",
      "[2022-11-09 19:10:12,723] WARNING [compiam.rhythm.transcription.map:615] Skipping unknown syllable, KAR for training instance. Model syllables: dict_keys(['TA', 'NA', 'DHA', 'KI', 'TI', 'GE', 'TAA', 'KA', 'RA', 'GA', 'GHI', 'RE', 'DHI', 'DA', 'DHE', 'KE', 'DHIN', 'DHET', 'TII', 'KDA', 'GI', 'TRA', 'TIN', 'TIT', 'GHE', 'KAT', 'DIN', 'DAA', 'KII', 'TE', 'N', 'DI', 'KRU', 'CHAP', 'DING', 'D', 'KRA', 'KRI'])\n",
      "[2022-11-09 19:10:12,724] WARNING [compiam.rhythm.transcription.map:615] Skipping unknown syllable, GHEN for training instance. Model syllables: dict_keys(['TA', 'NA', 'DHA', 'KI', 'TI', 'GE', 'TAA', 'KA', 'RA', 'GA', 'GHI', 'RE', 'DHI', 'DA', 'DHE', 'KE', 'DHIN', 'DHET', 'TII', 'KDA', 'GI', 'TRA', 'TIN', 'TIT', 'GHE', 'KAT', 'DIN', 'DAA', 'KII', 'TE', 'N', 'DI', 'KRU', 'CHAP', 'DING', 'D', 'KRA', 'KRI'])\n",
      "[2022-11-09 19:10:12,915] WARNING [compiam.rhythm.transcription.map:615] Skipping unknown syllable, TU for training instance. Model syllables: dict_keys(['TA', 'NA', 'DHA', 'KI', 'TI', 'GE', 'TAA', 'KA', 'RA', 'GA', 'GHI', 'RE', 'DHI', 'DA', 'DHE', 'KE', 'DHIN', 'DHET', 'TII', 'KDA', 'GI', 'TRA', 'TIN', 'TIT', 'GHE', 'KAT', 'DIN', 'DAA', 'KII', 'TE', 'N', 'DI', 'KRU', 'CHAP', 'DING', 'D', 'KRA', 'KRI'])\n"
     ]
    },
    {
     "name": "stderr",
     "output_type": "stream",
     "text": [
      "[2022-11-09 19:10:12,916] WARNING [compiam.rhythm.transcription.map:615] Skipping unknown syllable, TU for training instance. Model syllables: dict_keys(['TA', 'NA', 'DHA', 'KI', 'TI', 'GE', 'TAA', 'KA', 'RA', 'GA', 'GHI', 'RE', 'DHI', 'DA', 'DHE', 'KE', 'DHIN', 'DHET', 'TII', 'KDA', 'GI', 'TRA', 'TIN', 'TIT', 'GHE', 'KAT', 'DIN', 'DAA', 'KII', 'TE', 'N', 'DI', 'KRU', 'CHAP', 'DING', 'D', 'KRA', 'KRI'])\n",
      "  0%|                                                                                                                                                                                                       | 0/18 [00:00<?, ?it/s]"
     ]
    }
   ],
   "source": [
    "transcriber.train(audio_paths, annotations_paths)"
   ]
  },
  {
   "cell_type": "markdown",
   "id": "3fb7f468",
   "metadata": {},
   "source": [
    "Prediction for specific audio"
   ]
  },
  {
   "cell_type": "code",
   "execution_count": null,
   "id": "5606d215",
   "metadata": {},
   "outputs": [],
   "source": [
    "path = audio_paths[0]\n",
    "prediction = transcriber.predict(path)"
   ]
  },
  {
   "cell_type": "markdown",
   "id": "902863ff",
   "metadata": {},
   "source": [
    "Explore result"
   ]
  },
  {
   "cell_type": "code",
   "execution_count": null,
   "id": "cdc2482b",
   "metadata": {},
   "outputs": [],
   "source": [
    "from compiam.visualisation import plot_waveform"
   ]
  },
  {
   "cell_type": "code",
   "execution_count": null,
   "id": "6c646555",
   "metadata": {},
   "outputs": [],
   "source": [
    "max_t = max([x[0] for x in prediction])\n",
    "plot_waveform(path_to_audio, t1=0, t2=max_t, labels=prediction)"
   ]
  },
  {
   "cell_type": "markdown",
   "id": "c0e19562",
   "metadata": {},
   "source": [
    "### 3. Downstream Tasks"
   ]
  },
  {
   "cell_type": "markdown",
   "id": "66eb8a7c",
   "metadata": {},
   "source": [
    "We can use our transcriptions to explore rhythmic pattern."
   ]
  },
  {
   "cell_type": "code",
   "execution_count": null,
   "id": "53d9a444",
   "metadata": {},
   "outputs": [],
   "source": [
    "from compiam.rhythm.pattern import RLCS"
   ]
  },
  {
   "cell_type": "markdown",
   "id": "f4883091",
   "metadata": {},
   "source": [
    "## References\n",
    "1. MA, Rohit, Amitrajit Bhattacharjee, and Preeti Rao. \"FOUR-WAY CLASSIFICATION OF TABLA STROKES WITH MODELS ADAPTED FROM AUTOMATIC DRUM TRANSCRIPTION.\"\n",
    "2. Gupta, S., Srinivasamurthy, A., Kumar, M., Murthy, H., & Serra, X. (2015, October). Discovery of Syllabic Percussion Patterns in Tabla Solo Recordings. In Proceedings of the 16th International Society for Music Information Retrieval Conference (ISMIR 2015) (pp. 385–391). Malaga, Spain."
   ]
  },
  {
   "cell_type": "code",
   "execution_count": null,
   "id": "99876be9",
   "metadata": {},
   "outputs": [],
   "source": []
  }
 ],
 "metadata": {
  "kernelspec": {
   "display_name": "compiam",
   "language": "python",
   "name": "compiam"
  },
  "language_info": {
   "codemirror_mode": {
    "name": "ipython",
    "version": 3
   },
   "file_extension": ".py",
   "mimetype": "text/x-python",
   "name": "python",
   "nbconvert_exporter": "python",
   "pygments_lexer": "ipython3",
   "version": "3.7.0"
  }
 },
 "nbformat": 4,
 "nbformat_minor": 5
}
