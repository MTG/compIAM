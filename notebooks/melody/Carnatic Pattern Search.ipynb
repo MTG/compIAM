{
 "cells": [
  {
   "cell_type": "markdown",
   "id": "5aeb55fb",
   "metadata": {},
   "source": [
    "# Melodic Pattern Recognition in Carnatic Music"
   ]
  },
  {
   "cell_type": "code",
   "execution_count": 1,
   "id": "ae5ba416",
   "metadata": {},
   "outputs": [],
   "source": [
    "%load_ext autoreload\n",
    "\n",
    "%autoreload 2"
   ]
  },
  {
   "cell_type": "markdown",
   "id": "b8d55d7b",
   "metadata": {},
   "source": [
    "Melodic patterns (motifs and phrases), known as sañcāras, play a crucial structural and expressive role in Carnatic Music. These melodic patterns are the means through which the character of the rāga is expressed and form the basis of various improvisatory and compositional formats in the style [2,9]. There exists no definitive lists of all possible sañcāras in each rāga, rather the body of existing compositions and the living oral tradition of rāga performance act as repositories for that knowledge.\n",
    "\n",
    "This notebook will walk through the task of identifying and annotating sañcāras from audio using the [compIAM tools repository](https://github.com/MTG/compIAM).\n",
    "\n",
    "The methodology follows that presented in [_Nuttall, Thomas, Genís Plaja-Roglans, Lara Pearson, and Xavier Sierra. \"In search of Sañcāras: tradition-informed repeated melodic pattern recognition in carnatic music.\" (2022)._](https://repositori.upf.edu/handle/10230/54155)"
   ]
  },
  {
   "cell_type": "code",
   "execution_count": 2,
   "id": "b07a9bce",
   "metadata": {},
   "outputs": [],
   "source": [
    "from compiam import load_model\n",
    "from compiam.visualisation.waveform_player import Player\n",
    "from compiam.melody.pattern.sancara_search.extraction.evaluation import load_annotations_brindha, to_aeneas"
   ]
  },
  {
   "cell_type": "markdown",
   "id": "cea8fea0",
   "metadata": {},
   "source": [
    "## 1. Performance"
   ]
  },
  {
   "cell_type": "markdown",
   "id": "2bf32f6d",
   "metadata": {},
   "source": [
    "We use as an example a performance of insert_raga_here by insert_performer_here, in the raga, insert_raga_here. From the Saraga dataset."
   ]
  },
  {
   "cell_type": "code",
   "execution_count": 3,
   "id": "5aa3bd81",
   "metadata": {},
   "outputs": [],
   "source": [
    "audio_path = \"/Volumes/Shruti/asplab2/cae-invar/audio/multitrack/Sharanu Janakana.mp3\"\n",
    "title = 'Sharanu Janakana'"
   ]
  },
  {
   "cell_type": "code",
   "execution_count": 16,
   "id": "eafc6ec5",
   "metadata": {},
   "outputs": [
    {
     "data": {
      "application/vnd.jupyter.widget-view+json": {
       "model_id": "bb3f0687773c45849973b01236f3d87d",
       "version_major": 2,
       "version_minor": 0
      },
      "text/plain": [
       "Player(value='<iframe srcdoc=\"&lt;!DOCTYPE html&gt;\\n&lt;html lang=&quot;en&quot;&gt;\\n  &lt;head&gt;\\n  &lt;m…"
      ]
     },
     "metadata": {},
     "output_type": "display_data"
    }
   ],
   "source": [
    "Player(title, audio_path)"
   ]
  },
  {
   "cell_type": "code",
   "execution_count": 5,
   "id": "763bb379",
   "metadata": {},
   "outputs": [],
   "source": [
    "# Maybe include: Source separation?\n",
    "\n",
    "# TODO, for each stage include a visualisation [VIS]\n",
    "# [VIS] Audio waveform and playback"
   ]
  },
  {
   "cell_type": "markdown",
   "id": "8441b9ee",
   "metadata": {},
   "source": [
    "## 2. Feature Extraction"
   ]
  },
  {
   "cell_type": "markdown",
   "id": "5126a6c3",
   "metadata": {},
   "source": [
    "Two feature sets are extracted from each recording in SCV: (1) An automated transcription of the predominant sung pitch in Cents from which we derive a mask corresponding to silent/stable regions, and (2) Transformation-invariant melodic features extracted using a Complex Autoencoder (CAE) from audio in CQT representation, which we use for self-similarity computation."
   ]
  },
  {
   "cell_type": "markdown",
   "id": "10df55b1",
   "metadata": {},
   "source": [
    "### 2.1 Predominant Pitch Track"
   ]
  },
  {
   "cell_type": "markdown",
   "id": "9a757d65",
   "metadata": {},
   "source": [
    "Load FTA-Net predominant pitch extraction trained on carnatic dataset"
   ]
  },
  {
   "cell_type": "code",
   "execution_count": 6,
   "id": "761f83bc",
   "metadata": {},
   "outputs": [
    {
     "name": "stderr",
     "output_type": "stream",
     "text": [
      "2022-11-16 18:50:09.304957: I tensorflow/core/platform/cpu_feature_guard.cc:142] This TensorFlow binary is optimized with oneAPI Deep Neural Network Library (oneDNN) to use the following CPU instructions in performance-critical operations:  AVX2 FMA\n",
      "To enable them in other operations, rebuild TensorFlow with the appropriate compiler flags.\n"
     ]
    }
   ],
   "source": [
    "ftanet = load_model('melody:ftanet-carnatic')"
   ]
  },
  {
   "cell_type": "markdown",
   "id": "c140be70",
   "metadata": {},
   "source": [
    "Extract predominant pitch track"
   ]
  },
  {
   "cell_type": "code",
   "execution_count": 7,
   "id": "711627ea",
   "metadata": {},
   "outputs": [
    {
     "name": "stdout",
     "output_type": "stream",
     "text": [
      "CFP process in /Volumes/Shruti/asplab2/cae-invar/audio/multitrack/Sharanu Janakana.mp3\n"
     ]
    },
    {
     "name": "stderr",
     "output_type": "stream",
     "text": [
      "/Users/thomasnuttall/.virtualenvs/compIAM/lib/python3.7/site-packages/librosa/core/audio.py:162: UserWarning: PySoundFile failed. Trying audioread instead.\n",
      "  warnings.warn(\"PySoundFile failed. Trying audioread instead.\")\n",
      "2022-11-16 18:52:35.588288: I tensorflow/compiler/mlir/mlir_graph_optimization_pass.cc:176] None of the MLIR Optimization Passes are enabled (registered 2)\n"
     ]
    }
   ],
   "source": [
    "pitch_track = ftanet.predict(audio_path)\n",
    "pitch = pitch_track[:,1]\n",
    "time  = pitch_track[:,0]\n",
    "timestep  = time[2]-time[1]"
   ]
  },
  {
   "cell_type": "code",
   "execution_count": 8,
   "id": "34da43ce",
   "metadata": {},
   "outputs": [],
   "source": [
    "# [VIS] Pitch track + waveform + audio playback\n",
    "\n",
    "# Pitch distribution using pypeaks"
   ]
  },
  {
   "cell_type": "markdown",
   "id": "82b6e17a",
   "metadata": {},
   "source": [
    "Relative to other musical styles, Carnatic Music is heavily ornamented. This ornamentation is not superficial decoration but rather is integral to musical meaning [2]. The ornaments, known as gamakas, can greatly alter the sound of the notated svaras (notes); for example, some gamakas do not rest at all on the theoretical pitch of the notated svara, and instead involve oscillations between pitches either side of it [3,4]. This oscillatory movement is particularly characteristic of the style, and can often subsume individual svaras [4]. The surface effect on the melodic line is that it typically has fewer stable pitch regions than many other styles. Such qualities makes it difficult for researchers who are not themselves Carnatic musicians to reliably identify svaras from audio recordings."
   ]
  },
  {
   "cell_type": "markdown",
   "id": "b7078e45",
   "metadata": {},
   "source": [
    "#### 2.1.1 Silence and Stability"
   ]
  },
  {
   "cell_type": "code",
   "execution_count": 10,
   "id": "137fbc6f",
   "metadata": {},
   "outputs": [],
   "source": [
    "# Stability Track\n",
    "from compiam.utils.pitch import extract_stability_mask\n",
    "import numpy as np\n",
    "\n",
    "stability_mask = extract_stability_mask(\n",
    "    pitch=pitch, \n",
    "    min_stab_sec=1.0, \n",
    "    hop_sec=0.2,\n",
    "    var=60,\n",
    "    timestep=timestep)\n",
    "\n",
    "# Silence Mask\n",
    "silence_mask = pitch==0\n",
    "\n",
    "exclusion_mask = np.logical_or(silence_mask==1, stability_mask==1)"
   ]
  },
  {
   "cell_type": "markdown",
   "id": "c3ec4704",
   "metadata": {},
   "source": [
    "#### 2.1.2 Visualising Pitch"
   ]
  },
  {
   "cell_type": "code",
   "execution_count": 11,
   "id": "f2453d01",
   "metadata": {},
   "outputs": [],
   "source": [
    "# Pitch curve\n",
    "# Load expected notes for this svara\n",
    "# Can you see more peaks than svaras?"
   ]
  },
  {
   "cell_type": "markdown",
   "id": "804372a6",
   "metadata": {},
   "source": [
    "### 2.2 Melodic Feature Embeddings"
   ]
  },
  {
   "cell_type": "code",
   "execution_count": 12,
   "id": "ad049518",
   "metadata": {},
   "outputs": [
    {
     "name": "stdout",
     "output_type": "stream",
     "text": [
      "loading file /Volumes/Shruti/asplab2/cae-invar/audio/multitrack/Sharanu Janakana.mp3\n"
     ]
    },
    {
     "name": "stderr",
     "output_type": "stream",
     "text": [
      "/Users/thomasnuttall/.virtualenvs/compIAM/lib/python3.7/site-packages/librosa/core/audio.py:162: UserWarning: PySoundFile failed. Trying audioread instead.\n",
      "  warnings.warn(\"PySoundFile failed. Trying audioread instead.\")\n"
     ]
    }
   ],
   "source": [
    "# Pattern Extraction for a Given Audio\n",
    "from compiam import load_model\n",
    "\n",
    "# Feature Extraction\n",
    "# CAE features \n",
    "cae = load_model(\"melody:cae-carnatic\")\n",
    "\n",
    "ampl, phase = cae.extract_features(audio_path)\n",
    "\n",
    "# [VIS] Feature activation"
   ]
  },
  {
   "cell_type": "markdown",
   "id": "a285facf",
   "metadata": {},
   "source": [
    "#### 2.2.1 Self Similarity Matrix"
   ]
  },
  {
   "cell_type": "code",
   "execution_count": 13,
   "id": "40e9e703",
   "metadata": {},
   "outputs": [],
   "source": [
    "# [VIS] Stability and silence annotation\n",
    "\n",
    "# Self Similarity\n",
    "from compiam.melody.pattern import self_similarity\n",
    "\n",
    "ss = self_similarity(ampl, exclusion_mask=exclusion_mask, timestep=timestep, hop_length=cae.hop_length, sr=cae.sr)\n",
    "X, orig_sparse_lookup, sparse_orig_lookup, boundaries_orig, boundaries_sparse = ss"
   ]
  },
  {
   "cell_type": "code",
   "execution_count": 14,
   "id": "b0cbce49",
   "metadata": {},
   "outputs": [],
   "source": [
    "# [VIS] Self similarity matrix\n",
    "# [VIS] Self similarity matrix with boundaries annotated\n",
    "# [VIS] Self similarity matrix full silent and stable regions annotated\n",
    "\n",
    "# Segment Extraction\n",
    "\n",
    "# Segment Grouping"
   ]
  },
  {
   "cell_type": "markdown",
   "id": "3aefa534",
   "metadata": {},
   "source": [
    "## 3. Melodic Pattern Recognition"
   ]
  },
  {
   "cell_type": "markdown",
   "id": "def5d620",
   "metadata": {},
   "source": [
    "Another important feature of the style is the structural and expressive significance of motifs and phrases known as sañcāras, which can be defined as coherent segments of melodic movement that follow the grammar of the rāga (melodic framework) [2,8]. Some musicians use the term in a narrower sense to refer to phrases that are particularly characteristic of the rāga, but here we use the term in its broader sense, referring to any melodic segment that is coherent from a Carnatic performer’s perspective. These melodic patterns are the means through which the character of the rāga is expressed and form the basis of various improvisatory and compositional formats in the style [2,9]. There exists no definitive lists of all possible sañcāras in each rāga, rather the body of existing compositions and the living oral tradition of rāga performance act as repositories for that knowledge."
   ]
  },
  {
   "cell_type": "code",
   "execution_count": null,
   "id": "a4a74f74",
   "metadata": {},
   "outputs": [],
   "source": [
    "# Segment extraction\n",
    "segment_extractor"
   ]
  },
  {
   "cell_type": "code",
   "execution_count": null,
   "id": "9ae89b78",
   "metadata": {},
   "outputs": [],
   "source": [
    "# Grouping "
   ]
  },
  {
   "cell_type": "markdown",
   "id": "d7878c45",
   "metadata": {},
   "source": [
    "## 4. Evaluation"
   ]
  },
  {
   "cell_type": "markdown",
   "id": "c2949bd4",
   "metadata": {},
   "source": [
    "Ground-truth annotations of sañcāras in certain audio recordings were created by professional Carnatic vocalist, Brindha Manickavasakan. Annotations were created in Carnatic notation, known as sargam [36]. As there is no definitive list of sañcāras in a given rāga, the segmentations are based on the annotator’s experience as a professional performer and student of a highly esteemed musical lineage. These annotations are therefore subjective to some degree, but have the benefit of being based on expert performer knowledge rather than on an externally imposed metric that may be irrelevant to musical concepts held by culture bearers."
   ]
  },
  {
   "cell_type": "code",
   "execution_count": null,
   "id": "b34482dc",
   "metadata": {},
   "outputs": [],
   "source": [
    "# load annotations"
   ]
  },
  {
   "cell_type": "code",
   "execution_count": null,
   "id": "54eb149e",
   "metadata": {},
   "outputs": [],
   "source": [
    "# explore annotations "
   ]
  },
  {
   "cell_type": "code",
   "execution_count": null,
   "id": "5042da18",
   "metadata": {},
   "outputs": [],
   "source": [
    "# metrics for evaluation"
   ]
  },
  {
   "cell_type": "code",
   "execution_count": null,
   "id": "e624455c",
   "metadata": {},
   "outputs": [],
   "source": [
    "Player(title, audio_path)"
   ]
  },
  {
   "cell_type": "code",
   "execution_count": null,
   "id": "617bf3b5",
   "metadata": {},
   "outputs": [],
   "source": [
    "# visualise annotations vs returned patterns"
   ]
  },
  {
   "cell_type": "code",
   "execution_count": null,
   "id": "f7562dde",
   "metadata": {},
   "outputs": [],
   "source": []
  },
  {
   "cell_type": "markdown",
   "id": "c17ad271",
   "metadata": {},
   "source": [
    "## 5. Exploring Results"
   ]
  },
  {
   "cell_type": "code",
   "execution_count": null,
   "id": "69fb09cc",
   "metadata": {},
   "outputs": [],
   "source": []
  }
 ],
 "metadata": {
  "kernelspec": {
   "display_name": "compiam",
   "language": "python",
   "name": "compiam"
  },
  "language_info": {
   "codemirror_mode": {
    "name": "ipython",
    "version": 3
   },
   "file_extension": ".py",
   "mimetype": "text/x-python",
   "name": "python",
   "nbconvert_exporter": "python",
   "pygments_lexer": "ipython3",
   "version": "3.7.0"
  }
 },
 "nbformat": 4,
 "nbformat_minor": 5
}
